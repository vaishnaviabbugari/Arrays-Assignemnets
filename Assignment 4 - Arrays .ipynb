{
 "cells": [
  {
   "cell_type": "markdown",
   "id": "b04cb5b4",
   "metadata": {},
   "source": [
    "### Question 1 Given three integer arrays arr1, arr2 and arr3 **sorted** in **strictly increasing** order, return a sorted array of **only** the integers that appeared in **all** three arrays.\n",
    "**Example 1:**\n",
    "\n",
    "Input: arr1 = [1,2,3,4,5], arr2 = [1,2,5,7,9], arr3 = [1,3,4,5,8]\n",
    "\n",
    "Output: [1,5]\n",
    "\n",
    "**Explanation:** Only 1 and 5 appeared in the three arrays."
   ]
  },
  {
   "cell_type": "code",
   "execution_count": 1,
   "id": "6e730762",
   "metadata": {},
   "outputs": [],
   "source": [
    "def find_common_elements(arr1, arr2, arr3):\n",
    "    p1 = p2 = p3 = 0\n",
    "    result = []\n",
    "\n",
    "    while p1 < len(arr1) and p2 < len(arr2) and p3 < len(arr3):\n",
    "        if arr1[p1] == arr2[p2] == arr3[p3]:\n",
    "            result.append(arr1[p1])\n",
    "            p1 += 1\n",
    "            p2 += 1\n",
    "            p3 += 1\n",
    "        elif arr1[p1] <= arr2[p2] and arr1[p1] <= arr3[p3]:\n",
    "            p1 += 1\n",
    "        elif arr2[p2] <= arr1[p1] and arr2[p2] <= arr3[p3]:\n",
    "            p2 += 1\n",
    "        else:\n",
    "            p3 += 1\n",
    "\n",
    "    return result"
   ]
  },
  {
   "cell_type": "code",
   "execution_count": 2,
   "id": "8909a8ec",
   "metadata": {},
   "outputs": [
    {
     "name": "stdout",
     "output_type": "stream",
     "text": [
      "[1, 5]\n"
     ]
    }
   ],
   "source": [
    "arr1 = [1, 2, 3, 4, 5]\n",
    "arr2 = [1, 2, 5, 7, 9]\n",
    "arr3 = [1, 3, 4, 5, 8]\n",
    "\n",
    "result = find_common_elements(arr1, arr2, arr3)\n",
    "print(result)"
   ]
  },
  {
   "cell_type": "markdown",
   "id": "e00f9f86",
   "metadata": {},
   "source": [
    "### Question 2 Given two **0-indexed** integer arrays nums1 and nums2, return *a list* answer *of size* 2 *where:* - answer[0] *is a list of all **distinct** integers in* nums1 *which are **not** present in* nums2*. - answer[1] *is a list of all **distinct** integers in* nums2 *which are **not** present in* nums1.\n",
    "\n",
    "**Note** that the integers in the lists may be returned in **any** order.\n",
    "\n",
    "**Example 1:**\n",
    "\n",
    "**Input:** nums1 = [1,2,3], nums2 = [2,4,6]\n",
    "\n",
    "**Output:** [[1,3],[4,6]]\n",
    "\n",
    "**Explanation:**\n",
    "\n",
    "For nums1, nums1[1] = 2 is present at index 0 of nums2, whereas nums1[0] = 1 and nums1[2] = 3 are not present in nums2. Therefore, answer[0] = [1,3].\n",
    "\n",
    "For nums2, nums2[0] = 2 is present at index 1 of nums1, whereas nums2[1] = 4 and nums2[2] = 6 are not present in nums2. Therefore, answer[1] = [4,6].\n",
    "\n",
    "</aside> "
   ]
  },
  {
   "cell_type": "code",
   "execution_count": 3,
   "id": "e28c15f7",
   "metadata": {},
   "outputs": [],
   "source": [
    "def find_missing_elements(nums1, nums2):\n",
    "    set1 = set(nums1)\n",
    "    set2 = set(nums2)\n",
    "\n",
    "    result1 = [num for num in nums1 if num not in set2]\n",
    "    result2 = [num for num in nums2 if num not in set1]\n",
    "\n",
    "    return [result1, result2]"
   ]
  },
  {
   "cell_type": "code",
   "execution_count": 4,
   "id": "d7ae0aad",
   "metadata": {},
   "outputs": [
    {
     "name": "stdout",
     "output_type": "stream",
     "text": [
      "[[1, 3], [4, 6]]\n"
     ]
    }
   ],
   "source": [
    "nums1 = [1, 2, 3]\n",
    "nums2 = [2, 4, 6]\n",
    "\n",
    "result = find_missing_elements(nums1, nums2)\n",
    "print(result)"
   ]
  },
  {
   "cell_type": "markdown",
   "id": "15fa45ed",
   "metadata": {},
   "source": [
    "### Question 3 Given a 2D integer array matrix, return *the **transpose** of* matrix.\n",
    "The **transpose** of a matrix is the matrix flipped over its main diagonal, switching the matrix's row and column indices.\n",
    "\n",
    "**Example 1:**\n",
    "\n",
    "Input: matrix = [[1,2,3],[4,5,6],[7,8,9]]\n",
    "\n",
    "Output: [[1,4,7],[2,5,8],[3,6,9]]\n",
    "\n",
    "</aside>"
   ]
  },
  {
   "cell_type": "code",
   "execution_count": 5,
   "id": "b5119106",
   "metadata": {},
   "outputs": [],
   "source": [
    "def transpose(matrix):\n",
    "    rows = len(matrix)\n",
    "    cols = len(matrix[0])\n",
    "    transposed = [[0] * rows for _ in range(cols)]\n",
    "    \n",
    "    for i in range(rows):\n",
    "        for j in range(cols):\n",
    "            transposed[j][i] = matrix[i][j]\n",
    "    \n",
    "    return transposed"
   ]
  },
  {
   "cell_type": "code",
   "execution_count": 6,
   "id": "dd619b5d",
   "metadata": {},
   "outputs": [
    {
     "name": "stdout",
     "output_type": "stream",
     "text": [
      "[[1, 4, 7], [2, 5, 8], [3, 6, 9]]\n"
     ]
    }
   ],
   "source": [
    "matrix = [[1, 2, 3], [4, 5, 6], [7, 8, 9]]\n",
    "result = transpose(matrix)\n",
    "print(result)"
   ]
  },
  {
   "cell_type": "markdown",
   "id": "a7a444a3",
   "metadata": {},
   "source": [
    "### Question 4 Given an integer array nums of 2n integers, group these integers into n pairs (a1, b1), (a2, b2), ..., (an, bn) such that the sum of min(ai, bi) for all i is **maximized**. Return *the maximized sum*.\n",
    "**Example 1:**\n",
    "\n",
    "Input: nums = [1,4,3,2]\n",
    "\n",
    "Output: 4\n",
    "\n",
    "**Explanation:** All possible pairings (ignoring the ordering of elements) are:\n",
    "\n",
    "1. (1, 4), (2, 3) -> min(1, 4) + min(2, 3) = 1 + 2 = 3\n",
    "\n",
    "2. (1, 3), (2, 4) -> min(1, 3) + min(2, 4) = 1 + 2 = 3\n",
    "\n",
    "3. (1, 2), (3, 4) -> min(1, 2) + min(3, 4) = 1 + 3 = 4\n",
    "\n",
    "So the maximum possible sum is 4.\n",
    "\n",
    "</aside>"
   ]
  },
  {
   "cell_type": "code",
   "execution_count": 7,
   "id": "2f9bbfa6",
   "metadata": {},
   "outputs": [],
   "source": [
    "def array_pair_sum(nums):\n",
    "    nums.sort()\n",
    "    result = 0\n",
    "    for i in range(0, len(nums), 2):\n",
    "        result += nums[i]\n",
    "    return result"
   ]
  },
  {
   "cell_type": "code",
   "execution_count": 8,
   "id": "354f7f08",
   "metadata": {},
   "outputs": [
    {
     "name": "stdout",
     "output_type": "stream",
     "text": [
      "4\n"
     ]
    }
   ],
   "source": [
    "nums = [1, 4, 3, 2]\n",
    "result = array_pair_sum(nums)\n",
    "print(result)"
   ]
  },
  {
   "cell_type": "markdown",
   "id": "af0b4ee4",
   "metadata": {},
   "source": [
    "### Question 5 You have n coins and you want to build a staircase with these coins. The staircase consists of k rows where the ith row has exactly i coins. The last row of the staircase **may be** incomplete. Given the integer n, return *the number of **complete rows** of the staircase you will build*.\n",
    "\n",
    "**Example 1:**\n",
    "\n",
    "[]()\n",
    "\n",
    "![v2.jpg](https://s3-us-west-2.amazonaws.com/secure.notion-static.com/4bd91cfa-d2b1-47b3-8197-a72e8dcfff4b/v2.jpg)\n",
    "\n",
    "**Input:** n = 5\n",
    "\n",
    "**Output:** 2\n",
    "\n",
    "**Explanation:** Because the 3rd row is incomplete, we return 2.\n",
    "\n",
    "</aside>"
   ]
  },
  {
   "cell_type": "code",
   "execution_count": 9,
   "id": "4cf5d2e1",
   "metadata": {},
   "outputs": [],
   "source": [
    "def arrange_coins(n):\n",
    "    complete_rows = 0\n",
    "    remaining_coins = n\n",
    "    i = 1\n",
    "    \n",
    "    while remaining_coins >= i:\n",
    "        complete_rows += 1\n",
    "        remaining_coins -= i\n",
    "        i += 1\n",
    "    \n",
    "    return complete_rows"
   ]
  },
  {
   "cell_type": "code",
   "execution_count": 10,
   "id": "935044f0",
   "metadata": {},
   "outputs": [
    {
     "name": "stdout",
     "output_type": "stream",
     "text": [
      "2\n"
     ]
    }
   ],
   "source": [
    "n = 5\n",
    "result = arrange_coins(n)\n",
    "print(result)"
   ]
  },
  {
   "cell_type": "markdown",
   "id": "952ac217",
   "metadata": {},
   "source": [
    "### Question 6 Given an integer array nums sorted in **non-decreasing** order, return *an array of **the squares of each number** sorted in non-decreasing order*.\n",
    "**Example 1:**\n",
    "\n",
    "Input: nums = [-4,-1,0,3,10]\n",
    "\n",
    "Output: [0,1,9,16,100]\n",
    "\n",
    "**Explanation:** After squaring, the array becomes [16,1,0,9,100].\n",
    "After sorting, it becomes [0,1,9,16,100]\n",
    "\n",
    "</aside>"
   ]
  },
  {
   "cell_type": "code",
   "execution_count": 11,
   "id": "55050c9b",
   "metadata": {},
   "outputs": [],
   "source": [
    "def sorted_squares(nums):\n",
    "    squared_nums = [num * num for num in nums]\n",
    "    squared_nums.sort()\n",
    "    return squared_nums"
   ]
  },
  {
   "cell_type": "code",
   "execution_count": 12,
   "id": "7d23cd09",
   "metadata": {},
   "outputs": [
    {
     "name": "stdout",
     "output_type": "stream",
     "text": [
      "[0, 1, 9, 16, 100]\n"
     ]
    }
   ],
   "source": [
    "nums = [-4, -1, 0, 3, 10]\n",
    "result = sorted_squares(nums)\n",
    "print(result)"
   ]
  },
  {
   "cell_type": "markdown",
   "id": "6b6bce5d",
   "metadata": {},
   "source": [
    "### Question 7 You are given an m x n matrix M initialized with all 0's and an array of operations ops, where ops[i] = [ai, bi] means M[x][y] should be incremented by one for all 0 <= x < ai and 0 <= y < bi.Count and return *the number of maximum integers in the matrix after performing all the operations*\n",
    "\n",
    "**Example 1:**\n",
    "\n",
    "![q4.jpg](https://s3-us-west-2.amazonaws.com/secure.notion-static.com/4d0890d0-7bc7-4f59-be8e-352d9f3c1c52/q4.jpg)\n",
    "\n",
    "**Input:** m = 3, n = 3, ops = [[2,2],[3,3]]\n",
    "\n",
    "**Output:** 4\n",
    "\n",
    "**Explanation:** The maximum integer in M is 2, and there are four of it in M. So return 4."
   ]
  },
  {
   "cell_type": "code",
   "execution_count": 17,
   "id": "14907374",
   "metadata": {},
   "outputs": [],
   "source": [
    "from typing import List\n",
    "def maxCount(m: int, n: int, ops: List[List[int]]) -> int:\n",
    "    min_ai = m\n",
    "    min_bi = n\n",
    "    \n",
    "    for op in ops:\n",
    "        min_ai = min(min_ai, op[0])\n",
    "        min_bi = min(min_bi, op[1])\n",
    "    \n",
    "    return min_ai * min_bi"
   ]
  },
  {
   "cell_type": "code",
   "execution_count": 18,
   "id": "71c822fa",
   "metadata": {},
   "outputs": [
    {
     "name": "stdout",
     "output_type": "stream",
     "text": [
      "4\n"
     ]
    }
   ],
   "source": [
    "m = 3\n",
    "n = 3\n",
    "ops = [[2,2],[3,3]]\n",
    "\n",
    "result = maxCount(m, n, ops)\n",
    "print(result) "
   ]
  },
  {
   "cell_type": "markdown",
   "id": "6f9111a2",
   "metadata": {},
   "source": [
    "### Question 8 Given the array nums consisting of 2n elements in the form [x1,x2,...,xn,y1,y2,...,yn]. *Return the array in the form* [x1,y1,x2,y2,...,xn,yn].\n",
    "\n",
    "**Example 1:**\n",
    "\n",
    "**Input:** nums = [2,5,1,3,4,7], n = 3\n",
    "\n",
    "**Output:** [2,3,5,4,1,7]\n",
    "\n",
    "**Explanation:** Since x1=2, x2=5, x3=1, y1=3, y2=4, y3=7 then the answer is [2,3,5,4,1,7].\n",
    "\n",
    "</aside> "
   ]
  }
 ],
 "metadata": {
  "kernelspec": {
   "display_name": "Python 3 (ipykernel)",
   "language": "python",
   "name": "python3"
  },
  "language_info": {
   "codemirror_mode": {
    "name": "ipython",
    "version": 3
   },
   "file_extension": ".py",
   "mimetype": "text/x-python",
   "name": "python",
   "nbconvert_exporter": "python",
   "pygments_lexer": "ipython3",
   "version": "3.9.12"
  }
 },
 "nbformat": 4,
 "nbformat_minor": 5
}
