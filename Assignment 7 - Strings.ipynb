{
 "cells": [
  {
   "cell_type": "markdown",
   "id": "220e3ab2",
   "metadata": {},
   "source": [
    "### Question 1 Given two strings s and t, *determine if they are isomorphic*. Two strings s and t are isomorphic if the characters in s can be replaced to get t. All occurrences of a character must be replaced with another character while preserving the order of characters. No two characters may map to the same character, but a character may map to itself.\n",
    "\n",
    "**Example 1:**\n",
    "\n",
    "**Input:** s = \"egg\", t = \"add\"\n",
    "\n",
    "**Output:** true\n"
   ]
  },
  {
   "cell_type": "code",
   "execution_count": 1,
   "id": "d8469aa5",
   "metadata": {},
   "outputs": [],
   "source": [
    "def is_isomorphic(s, t):\n",
    "    if len(s) != len(t):  # If the lengths are different, they can't be isomorphic\n",
    "        return False\n",
    "    \n",
    "    s_to_t = {}  # Dictionary to store character mappings from s to t\n",
    "    t_to_s = {}  # Dictionary to store character mappings from t to s\n",
    "    \n",
    "    for i in range(len(s)):\n",
    "        char_s = s[i]\n",
    "        char_t = t[i]\n",
    "        \n",
    "        if char_s in s_to_t:\n",
    "            if s_to_t[char_s] != char_t:  # If the mapping already exists, it should match the current character in t\n",
    "                return False\n",
    "        else:\n",
    "            s_to_t[char_s] = char_t\n",
    "        \n",
    "        if char_t in t_to_s:\n",
    "            if t_to_s[char_t] != char_s:  # If the mapping already exists, it should match the current character in s\n",
    "                return False\n",
    "        else:\n",
    "            t_to_s[char_t] = char_s\n",
    "    \n",
    "    return True"
   ]
  },
  {
   "cell_type": "code",
   "execution_count": 2,
   "id": "401f364d",
   "metadata": {},
   "outputs": [
    {
     "name": "stdout",
     "output_type": "stream",
     "text": [
      "True\n"
     ]
    }
   ],
   "source": [
    "s = \"egg\"\n",
    "t = \"add\"\n",
    "print(is_isomorphic(s, t))  # Output: True"
   ]
  },
  {
   "cell_type": "markdown",
   "id": "d7b364b9",
   "metadata": {},
   "source": [
    "### Question 2 Given a string num which represents an integer, return true *if* num *is a **strobogrammatic number***. A **strobogrammatic number** is a number that looks the same when rotated 180 degrees (looked at upside down).\n",
    "\n",
    "**Example 1:**\n",
    "\n",
    "**Input:** num = \"69\"\n",
    "\n",
    "**Output:**\n",
    "\n",
    "true\n"
   ]
  },
  {
   "cell_type": "code",
   "execution_count": 3,
   "id": "5876a34a",
   "metadata": {},
   "outputs": [],
   "source": [
    "def is_strobogrammatic(num):\n",
    "    strobogrammatic_map = {\n",
    "        '0': '0',\n",
    "        '1': '1',\n",
    "        '6': '9',\n",
    "        '8': '8',\n",
    "        '9': '6'\n",
    "    }\n",
    "    \n",
    "    left = 0  # Pointer for the leftmost digit\n",
    "    right = len(num) - 1  # Pointer for the rightmost digit\n",
    "    \n",
    "    while left <= right:\n",
    "        if num[left] not in strobogrammatic_map or num[right] not in strobogrammatic_map:\n",
    "            return False\n",
    "        \n",
    "        if num[left] != strobogrammatic_map[num[right]]:\n",
    "            return False\n",
    "        \n",
    "        left += 1\n",
    "        right -= 1\n",
    "    \n",
    "    return True\n"
   ]
  },
  {
   "cell_type": "code",
   "execution_count": 4,
   "id": "729b0b65",
   "metadata": {},
   "outputs": [
    {
     "name": "stdout",
     "output_type": "stream",
     "text": [
      "True\n"
     ]
    }
   ],
   "source": [
    "num = \"69\"\n",
    "print(is_strobogrammatic(num))  # Output: True\n"
   ]
  },
  {
   "cell_type": "markdown",
   "id": "20bcc061",
   "metadata": {},
   "source": [
    "### Question 3 Given two non-negative integers, num1 and num2 represented as string, return *the sum of* num1 *and* num2 *as a string*. You must solve the problem without using any built-in library for handling large integers (such as BigInteger). You must also not convert the inputs to integers directly.\n",
    "\n",
    "**Example 1:**\n",
    "\n",
    "**Input:** num1 = \"11\", num2 = \"123\"\n",
    "\n",
    "**Output:**\n",
    "\n",
    "\"134\"\n",
    "\n",
    "</aside>"
   ]
  },
  {
   "cell_type": "code",
   "execution_count": 5,
   "id": "0d16b317",
   "metadata": {},
   "outputs": [],
   "source": [
    "def addStrings(num1, num2):\n",
    "    i = len(num1) - 1  # Pointer for the rightmost digit of num1\n",
    "    j = len(num2) - 1  # Pointer for the rightmost digit of num2\n",
    "    carry = 0         # Variable to store the carry value\n",
    "    result = []       # List to store the result digits\n",
    "    \n",
    "    while i >= 0 or j >= 0 or carry > 0:\n",
    "        digit1 = int(num1[i]) if i >= 0 else 0\n",
    "        digit2 = int(num2[j]) if j >= 0 else 0\n",
    "        \n",
    "        # Calculate the sum of the digits and the carry\n",
    "        digit_sum = digit1 + digit2 + carry\n",
    "        carry = digit_sum // 10  # Get the carry value (0 or 1)\n",
    "        digit_sum %= 10          # Get the sum digit (0-9)\n",
    "        \n",
    "        # Insert the sum digit at the beginning of the result list\n",
    "        result.insert(0, str(digit_sum))\n",
    "        \n",
    "        # Move the pointers to the next digit\n",
    "        i -= 1\n",
    "        j -= 1\n",
    "    \n",
    "    return ''.join(result)  # Convert the result list to a string and return\n",
    "\n"
   ]
  },
  {
   "cell_type": "code",
   "execution_count": 6,
   "id": "609eeb2f",
   "metadata": {},
   "outputs": [
    {
     "name": "stdout",
     "output_type": "stream",
     "text": [
      "134\n"
     ]
    }
   ],
   "source": [
    "num1 = \"11\"\n",
    "num2 = \"123\"\n",
    "print(addStrings(num1, num2))  # Output: \"134\""
   ]
  },
  {
   "cell_type": "markdown",
   "id": "c9af008b",
   "metadata": {},
   "source": [
    "### Question 4 Given a string s, reverse the order of characters in each word within a sentence while still preserving whitespace and initial word order.\n",
    "\n",
    "**Example 1:**\n",
    "\n",
    "**Input:** s = \"Let's take LeetCode contest\"\n",
    "\n",
    "**Output:** \"s'teL ekat edoCteeL tsetnoc\"\n",
    "\n",
    "</aside> "
   ]
  },
  {
   "cell_type": "code",
   "execution_count": 7,
   "id": "43bc3d5a",
   "metadata": {},
   "outputs": [],
   "source": [
    "def reverseWords(s):\n",
    "    words = s.split()  # Split the sentence into individual words\n",
    "    reversed_words = [word[::-1] for word in words]  # Reverse each word\n",
    "    \n",
    "    return ' '.join(reversed_words)  # Join the reversed words with whitespace\n"
   ]
  },
  {
   "cell_type": "code",
   "execution_count": 8,
   "id": "6c05e940",
   "metadata": {},
   "outputs": [
    {
     "name": "stdout",
     "output_type": "stream",
     "text": [
      "s'teL ekat edoCteeL tsetnoc\n"
     ]
    }
   ],
   "source": [
    "s = \"Let's take LeetCode contest\"\n",
    "print(reverseWords(s))  # Output: \"s'teL ekat edoCteeL tsetnoc\"\n"
   ]
  },
  {
   "cell_type": "markdown",
   "id": "b3945fc5",
   "metadata": {},
   "source": [
    "### Question 5 Given a string s and an integer k, reverse the first k characters for every 2k characters counting from the start of the string. If there are fewer than k characters left, reverse all of them. If there are less than 2k but greater than or equal to k characters, then reverse the first k characters and leave the other as original.\n",
    "\n",
    "**Example 1:**\n",
    "\n",
    "**Input:** s = \"abcdefg\", k = 2\n",
    "\n",
    "**Output:**\n",
    "\n",
    "\"bacdfeg\"\n",
    "\n",
    "</aside>"
   ]
  },
  {
   "cell_type": "code",
   "execution_count": 9,
   "id": "ec017a31",
   "metadata": {},
   "outputs": [],
   "source": [
    "def reverseStr(s, k):\n",
    "    result = []  # List to store the result characters\n",
    "    \n",
    "    for i in range(0, len(s), 2 * k):\n",
    "        segment = s[i:i+k]  # Get the current segment of length k\n",
    "        \n",
    "        # Reverse the first k characters if there are k or more characters remaining\n",
    "        if len(segment) >= k:\n",
    "            result.extend(segment[::-1])\n",
    "        else:\n",
    "            result.extend(segment)\n",
    "        \n",
    "        # Append the remaining characters without reversal\n",
    "        result.extend(s[i+k:i+2*k])\n",
    "    \n",
    "    return ''.join(result)  # Convert the result list to a string and return\n",
    "\n"
   ]
  },
  {
   "cell_type": "code",
   "execution_count": 10,
   "id": "518178ea",
   "metadata": {},
   "outputs": [
    {
     "name": "stdout",
     "output_type": "stream",
     "text": [
      "s'teL ekat edoCteeL tsetnoc\n"
     ]
    }
   ],
   "source": [
    "s = \"Let's take LeetCode contest\"\n",
    "print(reverseWords(s))  # Output: \"s'teL ekat edoCteeL tsetnoc\"\n"
   ]
  },
  {
   "cell_type": "markdown",
   "id": "f18286c6",
   "metadata": {},
   "source": [
    "### Question 6 Given two strings s and goal, return true *if and only if* s *can become* goal *after some number of **shifts** on* s. A **shift** on s consists of moving the leftmost character of s to the rightmost position. - For example, if s = \"abcde\", then it will be \"bcdea\" after one shift.\n",
    "\n",
    "**Example 1:**\n",
    "\n",
    "**Input:** s = \"abcde\", goal = \"cdeab\"\n",
    "\n",
    "**Output:**\n",
    "\n",
    "true\n",
    "\n",
    "</aside>"
   ]
  },
  {
   "cell_type": "code",
   "execution_count": 11,
   "id": "cc1ea48d",
   "metadata": {},
   "outputs": [],
   "source": [
    "def rotateString(s, goal):\n",
    "    if len(s) != len(goal):\n",
    "        return False\n",
    "    \n",
    "    rotated = s + s  # Concatenate s with itself\n",
    "    if goal in rotated:\n",
    "        return True\n",
    "    \n",
    "    return False\n"
   ]
  },
  {
   "cell_type": "code",
   "execution_count": 12,
   "id": "16ff7527",
   "metadata": {},
   "outputs": [
    {
     "name": "stdout",
     "output_type": "stream",
     "text": [
      "True\n"
     ]
    }
   ],
   "source": [
    "s = \"abcde\"\n",
    "goal = \"cdeab\"\n",
    "print(rotateString(s, goal))  # Output: True"
   ]
  },
  {
   "cell_type": "markdown",
   "id": "11a94c61",
   "metadata": {},
   "source": [
    "### Question 7 Given two strings s and t, return true *if they are equal when both are typed into empty text editors*. '#' means a backspace character. Note that after backspacing an empty text, the text will continue empty.\n",
    "\n",
    "**Example 1:**\n",
    "\n",
    "**Input:** s = \"ab#c\", t = \"ad#c\"\n",
    "\n",
    "**Output:** true\n",
    "\n",
    "**Explanation:**\n",
    "\n",
    "Both s and t become \"ac\".\n",
    "\n",
    "</aside>"
   ]
  },
  {
   "cell_type": "code",
   "execution_count": 13,
   "id": "ff659a7c",
   "metadata": {},
   "outputs": [],
   "source": [
    "def backspaceCompare(s, t):\n",
    "    def processString(string):\n",
    "        stack = []\n",
    "        for char in string:\n",
    "            if char != '#':\n",
    "                stack.append(char)\n",
    "            elif stack:\n",
    "                stack.pop()\n",
    "        return ''.join(stack)\n",
    "\n",
    "    return processString(s) == processString(t)"
   ]
  },
  {
   "cell_type": "code",
   "execution_count": 14,
   "id": "76a79125",
   "metadata": {},
   "outputs": [
    {
     "name": "stdout",
     "output_type": "stream",
     "text": [
      "True\n"
     ]
    }
   ],
   "source": [
    "s = \"ab#c\"\n",
    "t = \"ad#c\"\n",
    "print(backspaceCompare(s, t))  # Output: True\n"
   ]
  },
  {
   "cell_type": "markdown",
   "id": "27b90fbb",
   "metadata": {},
   "source": [
    "### Question 8 You are given an array coordinates, coordinates[i] = [x, y], where [x, y] represents the coordinate of a point. Check if these points make a straight line in the XY plane.\n",
    "\n",
    "</aside>"
   ]
  },
  {
   "cell_type": "code",
   "execution_count": 15,
   "id": "bbab8bca",
   "metadata": {},
   "outputs": [],
   "source": [
    "def checkStraightLine(coordinates):\n",
    "    if len(coordinates) <= 2:\n",
    "        return True\n",
    "    \n",
    "    x0, y0 = coordinates[0]\n",
    "    x1, y1 = coordinates[1]\n",
    "    \n",
    "    for i in range(2, len(coordinates)):\n",
    "        x, y = coordinates[i]\n",
    "        # Calculate the slope of the line between (x0, y0) and (x1, y1)\n",
    "        # Check if the slope between (x0, y0) and (x, y) is equal to the calculated slope\n",
    "        if (x1 - x0) * (y - y1) != (x - x1) * (y1 - y0):\n",
    "            return False\n",
    "    \n",
    "    return True\n"
   ]
  },
  {
   "cell_type": "code",
   "execution_count": 16,
   "id": "24b03d09",
   "metadata": {},
   "outputs": [
    {
     "name": "stdout",
     "output_type": "stream",
     "text": [
      "True\n"
     ]
    }
   ],
   "source": [
    "coordinates = [[1,2],[2,3],[3,4],[4,5],[5,6],[6,7]]\n",
    "print(checkStraightLine(coordinates))  # Output: True\n"
   ]
  }
 ],
 "metadata": {
  "kernelspec": {
   "display_name": "Python 3 (ipykernel)",
   "language": "python",
   "name": "python3"
  },
  "language_info": {
   "codemirror_mode": {
    "name": "ipython",
    "version": 3
   },
   "file_extension": ".py",
   "mimetype": "text/x-python",
   "name": "python",
   "nbconvert_exporter": "python",
   "pygments_lexer": "ipython3",
   "version": "3.10.9"
  }
 },
 "nbformat": 4,
 "nbformat_minor": 5
}
